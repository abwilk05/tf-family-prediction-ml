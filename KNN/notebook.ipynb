{
 "cells": [
  {
   "cell_type": "code",
   "execution_count": null,
   "metadata": {},
   "outputs": [],
   "source": [
    "# Saving consensus sequences to MEME file"
   ]
  },
  {
   "cell_type": "code",
   "execution_count": 8,
   "metadata": {},
   "outputs": [],
   "source": [
    "import numpy as np\n",
    "from scripts.functions import load_pwms, preprocess\n",
    "import pickle"
   ]
  },
  {
   "cell_type": "code",
   "execution_count": 1,
   "metadata": {},
   "outputs": [],
   "source": [
    "motifs = load_pwms()\n",
    "data, num_labels, matrix_ids, num_to_class, class_to_num, main_classes = preprocess(motifs)"
   ]
  },
  {
   "cell_type": "code",
   "execution_count": 32,
   "metadata": {},
   "outputs": [],
   "source": [
    "rng = np.random.default_rng(5)\n",
    "consensus_motifs = []\n",
    "for mat in data:\n",
    "    onehot = np.zeros_like(mat, dtype=int)\n",
    "    for j in range(mat.shape[1]):\n",
    "        col = mat[:, j]\n",
    "        max_val = col.max()\n",
    "        candidates = np.flatnonzero(col == max_val)\n",
    "        choice = rng.choice(candidates)\n",
    "        onehot[choice, j] = 1\n",
    "    consensus_motifs.append(onehot)"
   ]
  },
  {
   "cell_type": "code",
   "execution_count": 28,
   "metadata": {},
   "outputs": [],
   "source": [
    "def write_meme(bpmats, names, filename,\n",
    "               bg_freqs=None,\n",
    "               nsites=None,\n",
    "               E_values=None,\n",
    "               tol=1e-6):\n",
    "    \"\"\"\n",
    "    Write a list of letter-probability matrices (bpmats) to a MEME-format file,\n",
    "    automatically normalizing columns to sum to 1 and ensuring clean formatting.\n",
    "    \n",
    "    Parameters:\n",
    "    - bpmats: list of numpy arrays, each shape (4, w_i) for A,C,G,T probabilities.\n",
    "    - names: list of motif names (same length as bpmats).\n",
    "    - filename: output MEME file path.\n",
    "    - bg_freqs: dict of background frequencies, e.g. {'A':0.3,'C':0.2,'G':0.2,'T':0.3}.\n",
    "                If None, assumes uniform 0.25 each.\n",
    "    - nsites: list of integers nsites per motif, or scalar to apply to all.\n",
    "              If None, defaults to width of each motif.\n",
    "    - E_values: list of floats E-values per motif, or scalar for all.\n",
    "                If None, defaults to 1.0 for all.\n",
    "    - tol: tolerance for checking sums before normalization.\n",
    "    \"\"\"\n",
    "    assert len(bpmats) == len(names), \"bpmats and names must have same length\"\n",
    "    \n",
    "    # Default background frequencies\n",
    "    if bg_freqs is None:\n",
    "        bg_freqs = {'A':0.25, 'C':0.25, 'G':0.25, 'T':0.25}\n",
    "    \n",
    "    m = len(bpmats)\n",
    "    # Prepare nsites list\n",
    "    if nsites is None:\n",
    "        nsites = [20.0] * m\n",
    "    # Prepare E_values list\n",
    "    if E_values is None:\n",
    "        E_values = [0.0] * m\n",
    "    elif np.isscalar(E_values):\n",
    "        E_values = [E_values] * m\n",
    "    \n",
    "    with open(filename, 'w') as fh:\n",
    "        # Header\n",
    "        fh.write(\"MEME version 4\\n\\n\")\n",
    "        fh.write(\"ALPHABET= ACGT\\n\\n\")\n",
    "        fh.write(\"strands: + -\\n\\n\")\n",
    "        fh.write(\"Background letter frequencies\\n\")\n",
    "        fh.write(f\"A {bg_freqs['A']:.6f} C {bg_freqs['C']:.6f} \"\n",
    "                 f\"G {bg_freqs['G']:.6f} T {bg_freqs['T']:.6f}\\n\\n\")\n",
    "        \n",
    "        # Write each motif\n",
    "        for mat, name, n, E in zip(bpmats, names, nsites, E_values):\n",
    "            # Validate shape\n",
    "            assert mat.shape[0] == 4, f\"MATRIX {name} must have 4 rows (A,C,G,T)\"\n",
    "            w = mat.shape[1]\n",
    "            # Normalize each column to sum to 1\n",
    "            col_sums = mat.sum(axis=0)\n",
    "            for i, s in enumerate(col_sums):\n",
    "                if abs(s - 1.0) > tol:\n",
    "                    mat[:, i] = mat[:, i] / s\n",
    "            \n",
    "            fh.write(f\"MOTIF {name}\\n\")\n",
    "            fh.write(f\"letter-probability matrix: alength= 4 w= {w} \"\n",
    "                     f\"nsites= {n} E= {E:.2g}\\n\")\n",
    "            # Write matrix rows: one line per position\n",
    "            for col in range(w):\n",
    "                a, c, g, t = mat[:, col]\n",
    "                fh.write(f\"{a:1.6f} {c:1.6f} {g:1.6f} {t:1.6f}\\n\")\n",
    "            fh.write(\"\\n\")"
   ]
  },
  {
   "cell_type": "code",
   "execution_count": 33,
   "metadata": {},
   "outputs": [],
   "source": [
    "write_meme(consensus_motifs, matrix_ids, 'consensus.meme')"
   ]
  }
 ],
 "metadata": {
  "kernelspec": {
   "display_name": "new_light",
   "language": "python",
   "name": "python3"
  },
  "language_info": {
   "codemirror_mode": {
    "name": "ipython",
    "version": 3
   },
   "file_extension": ".py",
   "mimetype": "text/x-python",
   "name": "python",
   "nbconvert_exporter": "python",
   "pygments_lexer": "ipython3",
   "version": "3.9.19"
  }
 },
 "nbformat": 4,
 "nbformat_minor": 2
}
